{
 "cells": [
  {
   "cell_type": "markdown",
   "id": "74871515-ceca-4d8a-a878-233caf80e6fb",
   "metadata": {},
   "source": [
    "# Data Science Tools and Ecosystem"
   ]
  },
  {
   "cell_type": "markdown",
   "id": "ae642587-c38a-42f8-89bd-acbf2469c57c",
   "metadata": {},
   "source": [
    "In this notebook, Data Science Tools and Ecosystem are summarized"
   ]
  },
  {
   "cell_type": "markdown",
   "id": "4b0de6a0-4e7c-41c9-8f07-6344fb01862e",
   "metadata": {},
   "source": [
    "**Objectives**\n",
    "- List popular languages for Data Science\n",
    "- TList commonly used libraries for data Science\n",
    "- List development environments used for data Science\n",
    "- Perform some arithemtic expressions in Python"
   ]
  },
  {
   "cell_type": "markdown",
   "id": "96300d0b-9686-4083-a840-56e33ff804b3",
   "metadata": {},
   "source": [
    "Some of the popular languages that Data Scientists use are:\n",
    "1. Python\n",
    "2. R\n",
    "3. SQL"
   ]
  },
  {
   "cell_type": "markdown",
   "id": "9890a6d4-1964-4f4e-b2fa-4b722e658c75",
   "metadata": {},
   "source": [
    "Some of the commonly used libraries used by data Scientists include:\n",
    "1. Matplotlib\n",
    "2. Numpy\n",
    "3. Pandas"
   ]
  },
  {
   "cell_type": "markdown",
   "id": "2b1b1a08-deb4-4c77-ab89-af55d3dba267",
   "metadata": {},
   "source": [
    "| Data Science Tools |\n",
    "|-|\n",
    "|Anaconda|\n",
    "|JupyterLab|\n",
    "|Visual Studio Code (VS Code)|"
   ]
  },
  {
   "cell_type": "markdown",
   "id": "99bf3074-31b5-4e65-9b17-4e683b33e8f9",
   "metadata": {},
   "source": [
    "### Below are a few examples of evaluating arithemtic expression in Python"
   ]
  },
  {
   "cell_type": "code",
   "execution_count": 2,
   "id": "557fc2a9-526e-44ea-a737-58dff34e001a",
   "metadata": {},
   "outputs": [
    {
     "data": {
      "text/plain": [
       "17"
      ]
     },
     "execution_count": 2,
     "metadata": {},
     "output_type": "execute_result"
    }
   ],
   "source": [
    "# This is a simple arithemetic expression to multiply then add integers\n",
    "(3*4)+5"
   ]
  },
  {
   "cell_type": "code",
   "execution_count": 3,
   "id": "a6888605-4750-49f9-b2a7-928c708945cc",
   "metadata": {},
   "outputs": [
    {
     "data": {
      "text/plain": [
       "3.3333333333333335"
      ]
     },
     "execution_count": 3,
     "metadata": {},
     "output_type": "execute_result"
    }
   ],
   "source": [
    "# This will convert 200 minutes to hours by dividing 60\n",
    "200 / 60"
   ]
  },
  {
   "cell_type": "markdown",
   "id": "9508f1b5-d32e-49e5-baba-ddaa8a57efd6",
   "metadata": {},
   "source": [
    "## Author\n",
    "Titoluwanimi Olojotuyi"
   ]
  }
 ],
 "metadata": {
  "kernelspec": {
   "display_name": "Python [conda env:base] *",
   "language": "python",
   "name": "conda-base-py"
  },
  "language_info": {
   "codemirror_mode": {
    "name": "ipython",
    "version": 3
   },
   "file_extension": ".py",
   "mimetype": "text/x-python",
   "name": "python",
   "nbconvert_exporter": "python",
   "pygments_lexer": "ipython3",
   "version": "3.13.5"
  }
 },
 "nbformat": 4,
 "nbformat_minor": 5
}
